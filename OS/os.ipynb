{
 "cells": [
  {
   "cell_type": "markdown",
   "id": "96dd03d9",
   "metadata": {},
   "source": [
    "OS. = OPERATIG SYSTEM"
   ]
  },
  {
   "cell_type": "code",
   "execution_count": 2,
   "id": "e4163ec7",
   "metadata": {},
   "outputs": [],
   "source": [
    "import os # Import the os module"
   ]
  },
  {
   "cell_type": "code",
   "execution_count": 4,
   "id": "bd0a94a8",
   "metadata": {},
   "outputs": [
    {
     "name": "stdout",
     "output_type": "stream",
     "text": [
      "curret working directory:-  /Users/apple/Desktop/internship 2nd year/OS\n"
     ]
    }
   ],
   "source": [
    "forlder_path=os.getcwd() # path to the folder containing the data\n",
    "print(\"curret working directory:- \",forlder_path)"
   ]
  },
  {
   "cell_type": "code",
   "execution_count": null,
   "id": "457f0701",
   "metadata": {},
   "outputs": [
    {
     "name": "stdout",
     "output_type": "stream",
     "text": [
      "total list os curret directory: ['os.ipynb']\n"
     ]
    }
   ],
   "source": [
    "total_file=os.listdir() # list all files in the directory\n",
    "print(\"total list os curret directory:\",total_file)"
   ]
  },
  {
   "cell_type": "code",
   "execution_count": 8,
   "id": "ef7111ea",
   "metadata": {},
   "outputs": [
    {
     "name": "stdout",
     "output_type": "stream",
     "text": [
      "forlder created successfulyy\n"
     ]
    }
   ],
   "source": [
    "os.mkdir(\"Demo\") # Create a new directory called \"Demo\"\n",
    "print(\"forlder created successfulyy\")"
   ]
  },
  {
   "cell_type": "code",
   "execution_count": 9,
   "id": "c7d4a2e6",
   "metadata": {},
   "outputs": [
    {
     "name": "stdout",
     "output_type": "stream",
     "text": [
      "total list os curret directory: ['Demo', 'os.ipynb']\n"
     ]
    }
   ],
   "source": [
    "total_file=os.listdir()\n",
    "print(\"total list os curret directory:\",total_file)"
   ]
  },
  {
   "cell_type": "code",
   "execution_count": 10,
   "id": "89baccb1",
   "metadata": {},
   "outputs": [
    {
     "name": "stdout",
     "output_type": "stream",
     "text": [
      "folder is renamed\n"
     ]
    }
   ],
   "source": [
    "os.rename('Demo',\"DS\")\n",
    "print(\"folder is renamed\")"
   ]
  },
  {
   "cell_type": "code",
   "execution_count": null,
   "id": "a4102c77",
   "metadata": {},
   "outputs": [
    {
     "name": "stdout",
     "output_type": "stream",
     "text": [
      "total list os curret directory: ['DS', 'os.ipynb']\n"
     ]
    }
   ],
   "source": [
    "total_file=os.listdir() # list all files in the directory\n",
    "print(\"total list os curret directory:\",total_file)"
   ]
  },
  {
   "cell_type": "code",
   "execution_count": null,
   "id": "04d1e1c7",
   "metadata": {},
   "outputs": [
    {
     "name": "stdout",
     "output_type": "stream",
     "text": [
      "directory removed\n"
     ]
    }
   ],
   "source": [
    "os.rmdir(\"DS\") # remove directory\n",
    "print(\"directory removed\")"
   ]
  },
  {
   "cell_type": "code",
   "execution_count": 13,
   "id": "195f631c",
   "metadata": {},
   "outputs": [
    {
     "name": "stdout",
     "output_type": "stream",
     "text": [
      "total list os curret directory: ['os.ipynb']\n"
     ]
    }
   ],
   "source": [
    "total_file=os.listdir()\n",
    "print(\"total list os curret directory:\",total_file)"
   ]
  },
  {
   "cell_type": "code",
   "execution_count": 14,
   "id": "1cdfb73d",
   "metadata": {},
   "outputs": [],
   "source": [
    "# os.remove(\"file_name/file path\") # remove the file from the list\n",
    "# print(\"file removed\")"
   ]
  },
  {
   "cell_type": "code",
   "execution_count": 17,
   "id": "96ebee83",
   "metadata": {},
   "outputs": [
    {
     "name": "stdout",
     "output_type": "stream",
     "text": [
      "path exist:- None\n"
     ]
    }
   ],
   "source": [
    "path=r\"/Users/apple/Desktop/internship\"\n",
    "path=os.environ.get(path)\n",
    "print(\"path exist:-\",path)"
   ]
  },
  {
   "cell_type": "code",
   "execution_count": 20,
   "id": "51387638",
   "metadata": {},
   "outputs": [
    {
     "name": "stderr",
     "output_type": "stream",
     "text": [
      "sh: /Users/apple/Desktop/internship: No such file or directory\n"
     ]
    },
    {
     "data": {
      "text/plain": [
       "32512"
      ]
     },
     "execution_count": 20,
     "metadata": {},
     "output_type": "execute_result"
    }
   ],
   "source": [
    "os.system(r\"/Users/apple/Desktop/internship\") # change the path to your own desktop\n"
   ]
  },
  {
   "cell_type": "code",
   "execution_count": 21,
   "id": "4da80207",
   "metadata": {},
   "outputs": [
    {
     "data": {
      "text/plain": [
       "'/Users/apple/Desktop/internship 2nd year/OS'"
      ]
     },
     "execution_count": 21,
     "metadata": {},
     "output_type": "execute_result"
    }
   ],
   "source": [
    "os.getcwd()"
   ]
  },
  {
   "cell_type": "code",
   "execution_count": 22,
   "id": "e4df9afd",
   "metadata": {},
   "outputs": [
    {
     "data": {
      "text/plain": [
       "True"
      ]
     },
     "execution_count": 22,
     "metadata": {},
     "output_type": "execute_result"
    }
   ],
   "source": [
    "os.path.isfile(r\"/Users/apple/Desktop/internship 2nd year/OS/os.ipynb\")"
   ]
  },
  {
   "cell_type": "markdown",
   "id": "52f8c488",
   "metadata": {},
   "source": [
    "# For directory"
   ]
  },
  {
   "cell_type": "code",
   "execution_count": 24,
   "id": "79ed0c0a",
   "metadata": {},
   "outputs": [
    {
     "data": {
      "text/plain": [
       "False"
      ]
     },
     "execution_count": 24,
     "metadata": {},
     "output_type": "execute_result"
    }
   ],
   "source": [
    "os.path.isdir(r\"/Users/apple/Desktop/internship 2nd year/OS/os.ipynb\")"
   ]
  },
  {
   "cell_type": "code",
   "execution_count": 25,
   "id": "2408fa6b",
   "metadata": {},
   "outputs": [
    {
     "data": {
      "text/plain": [
       "False"
      ]
     },
     "execution_count": 25,
     "metadata": {},
     "output_type": "execute_result"
    }
   ],
   "source": [
    "os.path.isdir(r\"/Users/apple/Desktop/internship 2nd year/mohit\")"
   ]
  },
  {
   "cell_type": "code",
   "execution_count": 29,
   "id": "ad26a53d",
   "metadata": {},
   "outputs": [
    {
     "name": "stdout",
     "output_type": "stream",
     "text": [
      "your complete path:- /Users/apple/Desktop/internship 2nd year/OS/\n",
      "your list ['os.ipynb']\n"
     ]
    }
   ],
   "source": [
    "path1=r\"/Users/apple/Desktop\"\n",
    "path2=r\"internship 2nd year/OS/\"\n",
    "complete_path=os.path.join(path1,path2)\n",
    "print(\"your complete path:-\",complete_path)\n",
    "print(\"your list\", os.listdir(complete_path))"
   ]
  },
  {
   "cell_type": "code",
   "execution_count": 34,
   "id": "119b1c3a",
   "metadata": {},
   "outputs": [
    {
     "name": "stdout",
     "output_type": "stream",
     "text": [
      "folder size:- 96\n"
     ]
    }
   ],
   "source": [
    "path=r'/Users/apple/Desktop/internship 2nd year/OS'\n",
    "size=os.path.getsize(path)\n",
    "print(\"folder size:-\",size)"
   ]
  },
  {
   "cell_type": "code",
   "execution_count": null,
   "id": "79f1e277",
   "metadata": {},
   "outputs": [],
   "source": [
    "# # Lambda function\n",
    "\n",
    "# anonymous function\n",
    "\n",
    "lambda argument\n"
   ]
  },
  {
   "cell_type": "code",
   "execution_count": 35,
   "id": "344cbba1",
   "metadata": {},
   "outputs": [],
   "source": [
    "lst=[\"mohit\",\"ramesh\",\"shubham\",\"piyush\",\"mangal\"]\n",
    "itar=iter(lst)"
   ]
  },
  {
   "cell_type": "code",
   "execution_count": 41,
   "id": "99b2ac0c",
   "metadata": {},
   "outputs": [
    {
     "ename": "StopIteration",
     "evalue": "",
     "output_type": "error",
     "traceback": [
      "\u001b[31m---------------------------------------------------------------------------\u001b[39m",
      "\u001b[31mStopIteration\u001b[39m                             Traceback (most recent call last)",
      "\u001b[36mCell\u001b[39m\u001b[36m \u001b[39m\u001b[32mIn[41]\u001b[39m\u001b[32m, line 1\u001b[39m\n\u001b[32m----> \u001b[39m\u001b[32m1\u001b[39m \u001b[38;5;28;43mnext\u001b[39;49m\u001b[43m(\u001b[49m\u001b[43mitar\u001b[49m\u001b[43m)\u001b[49m\n",
      "\u001b[31mStopIteration\u001b[39m: "
     ]
    }
   ],
   "source": [
    "next(itar)"
   ]
  },
  {
   "cell_type": "code",
   "execution_count": 42,
   "id": "4aa42348",
   "metadata": {},
   "outputs": [
    {
     "name": "stdout",
     "output_type": "stream",
     "text": [
      "mohit\n",
      "ramesh\n",
      "shubham\n",
      "piyush\n",
      "mangal\n"
     ]
    }
   ],
   "source": [
    "for x in lst:\n",
    "    print(x)"
   ]
  },
  {
   "cell_type": "code",
   "execution_count": null,
   "id": "7224c24e",
   "metadata": {},
   "outputs": [],
   "source": []
  }
 ],
 "metadata": {
  "kernelspec": {
   "display_name": "Python 3",
   "language": "python",
   "name": "python3"
  },
  "language_info": {
   "codemirror_mode": {
    "name": "ipython",
    "version": 3
   },
   "file_extension": ".py",
   "mimetype": "text/x-python",
   "name": "python",
   "nbconvert_exporter": "python",
   "pygments_lexer": "ipython3",
   "version": "3.12.2"
  }
 },
 "nbformat": 4,
 "nbformat_minor": 5
}
