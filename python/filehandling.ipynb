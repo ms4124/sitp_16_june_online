{
 "cells": [
  {
   "cell_type": "markdown",
   "id": "de0133dd",
   "metadata": {},
   "source": [
    "## File handlig"
   ]
  },
  {
   "cell_type": "code",
   "execution_count": null,
   "id": "daa9ef10",
   "metadata": {},
   "outputs": [],
   "source": [
    "# file=open(\"file name\",\"mode\")\n",
    "# file.read()\n",
    "# file.write()\n",
    "# file.close()\n"
   ]
  },
  {
   "cell_type": "markdown",
   "id": "337b4512",
   "metadata": {},
   "source": [
    "| Mode   | Description                                                  |\n",
    "| ------ | ------------------------------------------------------------ |\n",
    "| ⁠ \"r\" ⁠  | Read mode (default), error if file doesn't exist             |\n",
    "| ⁠ \"w\" ⁠  | Write mode, creates a file if not exist, overwrites existing |\n",
    "| ⁠ \"a\" ⁠  | Append mode, adds content to end of file                     |\n",
    "| ⁠ \"x\" ⁠  | Create mode, error if file already exists                    |\n",
    "                                         |"
   ]
  },
  {
   "cell_type": "code",
   "execution_count": 13,
   "id": "79bf1486",
   "metadata": {},
   "outputs": [
    {
     "data": {
      "text/plain": [
       "''"
      ]
     },
     "execution_count": 13,
     "metadata": {},
     "output_type": "execute_result"
    }
   ],
   "source": [
    "file=open('demo.txt','r')\n",
    "file.read()\n",
    "file.readline()\n"
   ]
  },
  {
   "cell_type": "code",
   "execution_count": 21,
   "id": "2a00d9fc",
   "metadata": {},
   "outputs": [],
   "source": [
    "file=open('demo.txt','w')\n",
    "file.write(\"my name is not mohit\")\n",
    "file.close()\n",
    "\n"
   ]
  },
  {
   "cell_type": "code",
   "execution_count": 22,
   "id": "e65487a5",
   "metadata": {},
   "outputs": [
    {
     "name": "stdout",
     "output_type": "stream",
     "text": [
      "['my name is not mohit']\n"
     ]
    }
   ],
   "source": [
    "with open(\"demo.txt\",'r') as file:\n",
    "    lines=file.readlines()\n",
    "    print(lines)"
   ]
  },
  {
   "cell_type": "code",
   "execution_count": 17,
   "id": "f84c02a7",
   "metadata": {},
   "outputs": [],
   "source": [
    "file=open('demo.txt','r')\n",
    "file.readlines()\n",
    "file.close()"
   ]
  },
  {
   "cell_type": "markdown",
   "id": "35132f58",
   "metadata": {},
   "source": [
    "# Append"
   ]
  },
  {
   "cell_type": "code",
   "execution_count": 23,
   "id": "3cc38ef5",
   "metadata": {},
   "outputs": [
    {
     "data": {
      "text/plain": [
       "13"
      ]
     },
     "execution_count": 23,
     "metadata": {},
     "output_type": "execute_result"
    }
   ],
   "source": [
    "file=open(\"demo.txt\",\"a\")\n",
    "file.write(\"kya haal chal\")\n"
   ]
  },
  {
   "cell_type": "code",
   "execution_count": 27,
   "id": "d09a7d7e",
   "metadata": {},
   "outputs": [
    {
     "data": {
      "text/plain": [
       "'my name is not mohitkya haal chal'"
      ]
     },
     "execution_count": 27,
     "metadata": {},
     "output_type": "execute_result"
    }
   ],
   "source": [
    "file=open(\"demo.txt\",'r')\n",
    "file.read()"
   ]
  },
  {
   "cell_type": "code",
   "execution_count": 30,
   "id": "d7a4443a",
   "metadata": {},
   "outputs": [],
   "source": [
    "file=open(\"newfile.txt\",'x')\n",
    "file.write(\"Hello,Python!,this is running X mode\")\n",
    "file.close()"
   ]
  },
  {
   "cell_type": "code",
   "execution_count": 34,
   "id": "2e7732f4",
   "metadata": {},
   "outputs": [],
   "source": [
    "file=open(\"test2.txt\",'x')\n",
    "file.write(\"Hello,Python!,this is running X mode\")\n",
    "file.close()\n",
    "\n"
   ]
  },
  {
   "cell_type": "code",
   "execution_count": 35,
   "id": "fe7ff155",
   "metadata": {},
   "outputs": [
    {
     "data": {
      "text/plain": [
       "'Hello,Python!,this is running X mode'"
      ]
     },
     "execution_count": 35,
     "metadata": {},
     "output_type": "execute_result"
    }
   ],
   "source": [
    "file=open(\"test2.txt\",'r')\n",
    "file.read()"
   ]
  },
  {
   "cell_type": "code",
   "execution_count": null,
   "id": "ad87b2e0",
   "metadata": {},
   "outputs": [],
   "source": []
  },
  {
   "cell_type": "code",
   "execution_count": null,
   "id": "34372372",
   "metadata": {},
   "outputs": [],
   "source": []
  }
 ],
 "metadata": {
  "kernelspec": {
   "display_name": "Python 3",
   "language": "python",
   "name": "python3"
  },
  "language_info": {
   "codemirror_mode": {
    "name": "ipython",
    "version": 3
   },
   "file_extension": ".py",
   "mimetype": "text/x-python",
   "name": "python",
   "nbconvert_exporter": "python",
   "pygments_lexer": "ipython3",
   "version": "3.12.2"
  }
 },
 "nbformat": 4,
 "nbformat_minor": 5
}
