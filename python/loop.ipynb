{
 "cells": [
  {
   "cell_type": "markdown",
   "id": "d11d46bd",
   "metadata": {},
   "source": [
    "#For loop[]"
   ]
  },
  {
   "cell_type": "markdown",
   "id": "a9688240",
   "metadata": {},
   "source": [
    "kisi sequence ke har element par repeat (iterate) karne ke liye use hota hai."
   ]
  },
  {
   "cell_type": "markdown",
   "id": "254038ba",
   "metadata": {
    "vscode": {
     "languageId": "plaintext"
    }
   },
   "source": [
    "# code block"
   ]
  },
  {
   "cell_type": "code",
   "execution_count": 1,
   "id": "62f0aeee",
   "metadata": {},
   "outputs": [
    {
     "name": "stdout",
     "output_type": "stream",
     "text": [
      "1\n",
      "2\n",
      "3\n",
      "4\n",
      "5\n"
     ]
    }
   ],
   "source": [
    "lst=[1,2,3,4,5]\n",
    "for x in lst:\n",
    "    print(x)"
   ]
  },
  {
   "cell_type": "code",
   "execution_count": 2,
   "id": "62cea57c",
   "metadata": {},
   "outputs": [
    {
     "name": "stdout",
     "output_type": "stream",
     "text": [
      "m\n",
      "o\n",
      "h\n",
      "i\n",
      "t\n"
     ]
    }
   ],
   "source": [
    "name=\"mohit\"\n",
    "for x in name:\n",
    "    print(x)"
   ]
  },
  {
   "cell_type": "code",
   "execution_count": 3,
   "id": "1046e16c",
   "metadata": {},
   "outputs": [
    {
     "name": "stdout",
     "output_type": "stream",
     "text": [
      "m\n",
      "o\n",
      "h\n",
      "i\n",
      "t\n"
     ]
    }
   ],
   "source": [
    "for item in \"mohit\":\n",
    "    print(item)"
   ]
  },
  {
   "cell_type": "code",
   "execution_count": 4,
   "id": "374cb3cd",
   "metadata": {},
   "outputs": [
    {
     "name": "stdout",
     "output_type": "stream",
     "text": [
      "0\n",
      "1\n",
      "2\n",
      "3\n",
      "4\n"
     ]
    }
   ],
   "source": [
    "for x in range(5):\n",
    "    print(x)"
   ]
  },
  {
   "cell_type": "code",
   "execution_count": 5,
   "id": "d1aad8ce",
   "metadata": {},
   "outputs": [
    {
     "name": "stdout",
     "output_type": "stream",
     "text": [
      "2\n",
      "4\n",
      "6\n",
      "8\n",
      "10\n",
      "12\n",
      "14\n",
      "16\n",
      "18\n",
      "20\n",
      "22\n",
      "24\n",
      "26\n",
      "28\n",
      "30\n",
      "32\n",
      "34\n",
      "36\n",
      "38\n",
      "40\n",
      "42\n",
      "44\n",
      "46\n",
      "48\n"
     ]
    }
   ],
   "source": [
    "for x in range(2,50,2):  #range starts at 2, ends at 50, increments by 2\n",
    "    print(x)"
   ]
  },
  {
   "cell_type": "code",
   "execution_count": 6,
   "id": "b70c7617",
   "metadata": {},
   "outputs": [
    {
     "name": "stdout",
     "output_type": "stream",
     "text": [
      "('name', 'mohit')\n",
      "('age', 25)\n",
      "('city', 'delhi')\n"
     ]
    }
   ],
   "source": [
    "dct={\"name\":\"mohit\",\n",
    "     \"age\":25,\"city\":\"delhi\"}\n",
    "for item in dct.items():\n",
    "    print(item)"
   ]
  },
  {
   "cell_type": "code",
   "execution_count": 7,
   "id": "41d972a6",
   "metadata": {},
   "outputs": [
    {
     "name": "stdout",
     "output_type": "stream",
     "text": [
      "2\n",
      "4\n",
      "6\n",
      "8\n",
      "10\n",
      "12\n",
      "14\n",
      "16\n",
      "18\n",
      "20\n",
      "22\n",
      "24\n",
      "26\n",
      "28\n",
      "30\n",
      "32\n",
      "34\n",
      "36\n",
      "38\n",
      "40\n",
      "42\n",
      "44\n",
      "46\n",
      "48\n",
      "50\n"
     ]
    }
   ],
   "source": [
    "for i in range(2, 51, 2):\n",
    "    print(i)\n"
   ]
  },
  {
   "cell_type": "code",
   "execution_count": 2,
   "id": "1b861e7d",
   "metadata": {},
   "outputs": [
    {
     "name": "stdout",
     "output_type": "stream",
     "text": [
      "1\n",
      "2\n",
      "3\n",
      "4\n"
     ]
    }
   ],
   "source": [
    "x = \"Mohit soni\"\n",
    "vowels = \"aeiouAEIOU\"\n",
    "count = 0\n",
    "for char in x:\n",
    "    if char in vowels:\n",
    "        count += 1\n",
    "        print(count)"
   ]
  },
  {
   "cell_type": "markdown",
   "id": "48b1beed",
   "metadata": {},
   "source": [
    "# while loop\n",
    "#### is. used to. repeat a block of code as long as. a given condn is true"
   ]
  },
  {
   "cell_type": "code",
   "execution_count": 1,
   "id": "bb14407d",
   "metadata": {},
   "outputs": [
    {
     "name": "stdout",
     "output_type": "stream",
     "text": [
      "1\n",
      "2\n",
      "3\n",
      "4\n",
      "5\n"
     ]
    }
   ],
   "source": [
    "x=1\n",
    "while x<=5:\n",
    "    print(x)\n",
    "    x=x+1"
   ]
  },
  {
   "cell_type": "code",
   "execution_count": 4,
   "id": "b58ba64c",
   "metadata": {},
   "outputs": [
    {
     "name": "stdout",
     "output_type": "stream",
     "text": [
      "(1, 2, 3, 4, 5)\n"
     ]
    }
   ],
   "source": [
    "x = 1,2,3,4,5\n",
    "print(x)"
   ]
  },
  {
   "cell_type": "code",
   "execution_count": 5,
   "id": "3ff0845d",
   "metadata": {},
   "outputs": [
    {
     "name": "stdout",
     "output_type": "stream",
     "text": [
      "1 2 3 4 "
     ]
    }
   ],
   "source": [
    "x=1\n",
    "while x<5:\n",
    "    print(x,end=' ')\n",
    "    x+=1"
   ]
  },
  {
   "cell_type": "markdown",
   "id": "8a2157d2",
   "metadata": {},
   "source": [
    "#### Break Statement\n",
    "The break statement is usedm to exit a loop or a switch statement. When a break statement is encountered"
   ]
  },
  {
   "cell_type": "code",
   "execution_count": 18,
   "id": "8b17e4a1",
   "metadata": {},
   "outputs": [
    {
     "name": "stdout",
     "output_type": "stream",
     "text": [
      "1\n",
      "2\n"
     ]
    }
   ],
   "source": [
    "for x in range(1,6):\n",
    "    if x == 3:\n",
    "        break\n",
    "    print(x)"
   ]
  },
  {
   "cell_type": "markdown",
   "id": "5c492feb",
   "metadata": {},
   "source": [
    "#### Continuos statement\n",
    "The following is a continuous statement:"
   ]
  },
  {
   "cell_type": "markdown",
   "id": "c989f572",
   "metadata": {},
   "source": []
  },
  {
   "cell_type": "code",
   "execution_count": 15,
   "id": "d9374b29",
   "metadata": {},
   "outputs": [
    {
     "name": "stdout",
     "output_type": "stream",
     "text": [
      "1\n",
      "2\n",
      "3\n",
      "4\n",
      "5\n"
     ]
    }
   ],
   "source": [
    "for x in range(1,6):\n",
    "    if x == 9:\n",
    "        continue\n",
    "    print(x)"
   ]
  },
  {
   "cell_type": "markdown",
   "id": "cfe2adeb",
   "metadata": {},
   "source": [
    "#### Function\n",
    "\n",
    "Function ek block hota hai code ka, jo kisi specific kaam ko karta hai. Aap usko baar-baar use kar sakte ho bina baar-baar likhe.\n",
    "\n",
    "✅ Why use functions?\n",
    "Code repeat nahi hota\n",
    "\n",
    "Code clean aur samajhne layak hota hai\n",
    "\n",
    "Jab chaho tab call kar sakte ho\n",
    "\n",
    "def function_name(parameter):\n",
    "    code"
   ]
  },
  {
   "cell_type": "code",
   "execution_count": 20,
   "id": "d2d20214",
   "metadata": {},
   "outputs": [],
   "source": [
    "def temp():\n",
    "    print('hello kese ho')"
   ]
  },
  {
   "cell_type": "code",
   "execution_count": 21,
   "id": "73a75b33",
   "metadata": {},
   "outputs": [
    {
     "name": "stdout",
     "output_type": "stream",
     "text": [
      "hello kese ho\n"
     ]
    }
   ],
   "source": [
    "temp()"
   ]
  },
  {
   "cell_type": "code",
   "execution_count": 22,
   "id": "9245f971",
   "metadata": {},
   "outputs": [],
   "source": [
    "def add_two_no(a,b):\n",
    "    print(a+b)"
   ]
  },
  {
   "cell_type": "code",
   "execution_count": 24,
   "id": "04507ab6",
   "metadata": {},
   "outputs": [
    {
     "name": "stdout",
     "output_type": "stream",
     "text": [
      "5\n"
     ]
    }
   ],
   "source": [
    "add_two_no(a=2,b=3)"
   ]
  },
  {
   "cell_type": "code",
   "execution_count": 27,
   "id": "ae1d7a52",
   "metadata": {},
   "outputs": [],
   "source": [
    "def temp (name=\"mohit\"):\n",
    "    print(\"your name is:-\",name)"
   ]
  },
  {
   "cell_type": "code",
   "execution_count": 28,
   "id": "233fdbdb",
   "metadata": {},
   "outputs": [
    {
     "name": "stdout",
     "output_type": "stream",
     "text": [
      "your name is:- mohit\n"
     ]
    }
   ],
   "source": [
    "temp()"
   ]
  },
  {
   "cell_type": "code",
   "execution_count": 35,
   "id": "cfccd98a",
   "metadata": {},
   "outputs": [],
   "source": [
    "def mul(a,b):\n",
    "    return a*b"
   ]
  },
  {
   "cell_type": "code",
   "execution_count": 36,
   "id": "dcb6d027",
   "metadata": {},
   "outputs": [
    {
     "data": {
      "text/plain": [
       "9"
      ]
     },
     "execution_count": 36,
     "metadata": {},
     "output_type": "execute_result"
    }
   ],
   "source": [
    "mul(a=3,b=3)"
   ]
  },
  {
   "cell_type": "markdown",
   "id": "baeb4bf8",
   "metadata": {},
   "source": [
    "###Write a function that uses a while loop to print numbers from 1 to n.\n",
    "###Write a function that counts the number of vowels in a string"
   ]
  },
  {
   "cell_type": "code",
   "execution_count": 37,
   "id": "11a41081",
   "metadata": {},
   "outputs": [],
   "source": [
    "def print_numbers(n):\n",
    "    i = 1\n",
    "    while i <= n:\n",
    "        print(i)\n",
    "        i += 1\n"
   ]
  },
  {
   "cell_type": "code",
   "execution_count": 38,
   "id": "4efb89cc",
   "metadata": {},
   "outputs": [
    {
     "name": "stdout",
     "output_type": "stream",
     "text": [
      "1\n",
      "2\n",
      "3\n",
      "4\n",
      "5\n"
     ]
    }
   ],
   "source": [
    "print_numbers(5)"
   ]
  },
  {
   "cell_type": "code",
   "execution_count": 39,
   "id": "1f1051ef",
   "metadata": {},
   "outputs": [],
   "source": [
    "def count_vowels(text):\n",
    "    vowels = \"aeiouAEIOU\"\n",
    "    count = 0\n",
    "    for char in text:\n",
    "        if char in vowels:\n",
    "            count += 1\n",
    "    return count\n"
   ]
  },
  {
   "cell_type": "code",
   "execution_count": 41,
   "id": "bf86bf2d",
   "metadata": {},
   "outputs": [
    {
     "name": "stdout",
     "output_type": "stream",
     "text": [
      "Vowel count: 9\n"
     ]
    }
   ],
   "source": [
    "result = count_vowels(\"mErA naAm mOhit SOni hE\")\n",
    "print(\"Vowel count:\", result)\n"
   ]
  },
  {
   "cell_type": "code",
   "execution_count": null,
   "id": "af5ad877",
   "metadata": {},
   "outputs": [],
   "source": []
  }
 ],
 "metadata": {
  "kernelspec": {
   "display_name": "Python 3",
   "language": "python",
   "name": "python3"
  },
  "language_info": {
   "codemirror_mode": {
    "name": "ipython",
    "version": 3
   },
   "file_extension": ".py",
   "mimetype": "text/x-python",
   "name": "python",
   "nbconvert_exporter": "python",
   "pygments_lexer": "ipython3",
   "version": "3.12.2"
  }
 },
 "nbformat": 4,
 "nbformat_minor": 5
}
