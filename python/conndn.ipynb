{
 "cells": [
  {
   "cell_type": "markdown",
   "id": "720f95e9",
   "metadata": {},
   "source": [
    "# conditionnal statement\n",
    "## if statement\n",
    "## if-else statement\n",
    "## if-elif-else statement"
   ]
  },
  {
   "cell_type": "code",
   "execution_count": 2,
   "id": "1d172ac3",
   "metadata": {},
   "outputs": [
    {
     "name": "stdout",
     "output_type": "stream",
     "text": [
      "hello\n"
     ]
    }
   ],
   "source": [
    "print(\"hello\")"
   ]
  },
  {
   "cell_type": "code",
   "execution_count": 5,
   "id": "7d7d45ab",
   "metadata": {},
   "outputs": [
    {
     "name": "stdout",
     "output_type": "stream",
     "text": [
      "x bada he 5 se\n"
     ]
    }
   ],
   "source": [
    "x=10\n",
    "if x>5:\n",
    "    print(\"x bada he 5 se\")"
   ]
  },
  {
   "cell_type": "markdown",
   "id": "debcaddf",
   "metadata": {},
   "source": [
    "# else use karo"
   ]
  },
  {
   "cell_type": "code",
   "execution_count": 8,
   "id": "79bc9a3b",
   "metadata": {},
   "outputs": [
    {
     "name": "stdout",
     "output_type": "stream",
     "text": [
      "x bada he 5 se\n"
     ]
    }
   ],
   "source": [
    "x=10\n",
    "if x>5:\n",
    "    print(\"x bada he 5 se\")\n",
    "else:\n",
    "    print(\"x chhota he 5 se\")"
   ]
  },
  {
   "cell_type": "markdown",
   "id": "7dd869e3",
   "metadata": {},
   "source": [
    "# nested if"
   ]
  },
  {
   "cell_type": "code",
   "execution_count": 10,
   "id": "318addf9",
   "metadata": {},
   "outputs": [
    {
     "name": "stdout",
     "output_type": "stream",
     "text": [
      "x bada he 0 se and chhota 20 se\n"
     ]
    }
   ],
   "source": [
    "x=10\n",
    "if x>0:\n",
    "    if x<20:\n",
    "        print(\"x bada he 0 se and chhota 20 se\")"
   ]
  },
  {
   "cell_type": "markdown",
   "id": "30d864e0",
   "metadata": {},
   "source": [
    "#### short-hand if else"
   ]
  },
  {
   "cell_type": "code",
   "execution_count": 11,
   "id": "b60af431",
   "metadata": {},
   "outputs": [
    {
     "name": "stdout",
     "output_type": "stream",
     "text": [
      "x bada he 5 se\n"
     ]
    }
   ],
   "source": [
    "x=10\n",
    "if x>5:  print(\"x bada he 5 se\")"
   ]
  },
  {
   "cell_type": "code",
   "execution_count": 14,
   "id": "5c5dfd6a",
   "metadata": {},
   "outputs": [
    {
     "name": "stdout",
     "output_type": "stream",
     "text": [
      "even\n"
     ]
    }
   ],
   "source": [
    "x=8\n",
    "result= \"even\" if x%2==0 else \"odd\"\n",
    "print(result)"
   ]
  },
  {
   "cell_type": "markdown",
   "id": "279a7c04",
   "metadata": {},
   "source": [
    "#### Ternarry operators "
   ]
  },
  {
   "cell_type": "markdown",
   "id": "c9f1721e",
   "metadata": {},
   "source": [
    "###########task1. grade. based result"
   ]
  },
  {
   "cell_type": "code",
   "execution_count": 17,
   "id": "028ac1fc",
   "metadata": {},
   "outputs": [
    {
     "ename": "ValueError",
     "evalue": "invalid literal for int() with base 10: ''",
     "output_type": "error",
     "traceback": [
      "\u001b[31m---------------------------------------------------------------------------\u001b[39m",
      "\u001b[31mValueError\u001b[39m                                Traceback (most recent call last)",
      "\u001b[36mCell\u001b[39m\u001b[36m \u001b[39m\u001b[32mIn[17]\u001b[39m\u001b[32m, line 1\u001b[39m\n\u001b[32m----> \u001b[39m\u001b[32m1\u001b[39m marks = \u001b[38;5;28;43mint\u001b[39;49m\u001b[43m(\u001b[49m\u001b[38;5;28;43minput\u001b[39;49m\u001b[43m(\u001b[49m\u001b[33;43m\"\u001b[39;49m\u001b[33;43mEnter your marks: \u001b[39;49m\u001b[33;43m\"\u001b[39;49m\u001b[43m)\u001b[49m\u001b[43m)\u001b[49m\n\u001b[32m      3\u001b[39m \u001b[38;5;28;01mif\u001b[39;00m marks >= \u001b[32m90\u001b[39m:\n\u001b[32m      4\u001b[39m     grade = \u001b[33m\"\u001b[39m\u001b[33mA\u001b[39m\u001b[33m\"\u001b[39m\n",
      "\u001b[31mValueError\u001b[39m: invalid literal for int() with base 10: ''"
     ]
    }
   ],
   "source": [
    "marks = int(input(\"Enter your marks: \"))\n",
    "\n",
    "if marks >= 90:\n",
    "    grade = \"A\"\n",
    "elif marks >= 80:\n",
    "    grade = \"B\"\n",
    "elif marks >= 70:\n",
    "    grade = \"C\"\n",
    "else:\n",
    "    grade = \"Fail\"\n",
    "\n",
    "print(\"Your grade is:\", grade)\n"
   ]
  },
  {
   "cell_type": "code",
   "execution_count": null,
   "id": "b2235f20",
   "metadata": {},
   "outputs": [],
   "source": []
  }
 ],
 "metadata": {
  "kernelspec": {
   "display_name": "Python 3",
   "language": "python",
   "name": "python3"
  },
  "language_info": {
   "codemirror_mode": {
    "name": "ipython",
    "version": 3
   },
   "file_extension": ".py",
   "mimetype": "text/x-python",
   "name": "python",
   "nbconvert_exporter": "python",
   "pygments_lexer": "ipython3",
   "version": "3.12.2"
  }
 },
 "nbformat": 4,
 "nbformat_minor": 5
}
