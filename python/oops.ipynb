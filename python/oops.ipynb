{
 "cells": [
  {
   "cell_type": "markdown",
   "id": "0a2af2a3",
   "metadata": {},
   "source": [
    "#polyorphism\n",
    "#inheritance\n",
    "#abstraction"
   ]
  },
  {
   "cell_type": "code",
   "execution_count": null,
   "id": "b88a3c7d",
   "metadata": {},
   "outputs": [],
   "source": []
  },
  {
   "cell_type": "code",
   "execution_count": null,
   "id": "a874842f",
   "metadata": {},
   "outputs": [],
   "source": []
  },
  {
   "cell_type": "code",
   "execution_count": null,
   "id": "025e2588",
   "metadata": {},
   "outputs": [
    {
     "name": "stdout",
     "output_type": "stream",
     "text": [
      "mohit soni\n"
     ]
    }
   ],
   "source": [
    "class student:  \n",
    "    name='mohit soni'\n",
    "    age=20\n",
    "    \n",
    "\n",
    "\n",
    "\n",
    "st_obj=student()\n",
    "print(st_obj.name)"
   ]
  },
  {
   "cell_type": "code",
   "execution_count": 3,
   "id": "a99c2d87",
   "metadata": {},
   "outputs": [
    {
     "name": "stdout",
     "output_type": "stream",
     "text": [
      "my name is mohit soni and my age is 20\n",
      "mohit soni\n",
      "20\n"
     ]
    }
   ],
   "source": [
    "class student:  \n",
    "    name='mohit soni'\n",
    "    age=20\n",
    "    print(\"my name is\",name,\"and my age is\",age)\n",
    "\n",
    "\n",
    "\n",
    "st_obj=student()\n",
    "print(st_obj.name)\n",
    "print(st_obj.age)  # Output: 20"
   ]
  },
  {
   "cell_type": "code",
   "execution_count": 7,
   "id": "0f19c714",
   "metadata": {},
   "outputs": [],
   "source": [
    "class Student:\n",
    "    def set_details(self,name,age,grade):\n",
    "        self.name=name\n",
    "        self.age=age\n",
    "        self.grade=grade\n",
    "\n",
    "\n",
    "    def display(self):\n",
    "        print(f\"Name: {self.name}\")\n",
    "        print(f\"Age: {self.age}\")\n",
    "        print(f\"Grade: {self.grade}\")\n",
    "\n",
    "st_obj=Student()\n",
    "\n"
   ]
  },
  {
   "cell_type": "code",
   "execution_count": 12,
   "id": "3dfdf08b",
   "metadata": {},
   "outputs": [],
   "source": [
    "st_obj.set_details(\"Mohit\",20,\"A\")\n",
    "st_obj.set_details(name=\"Ramesh\",age=20,grade=\"B\")"
   ]
  },
  {
   "cell_type": "code",
   "execution_count": 13,
   "id": "79ae4d29",
   "metadata": {},
   "outputs": [
    {
     "name": "stdout",
     "output_type": "stream",
     "text": [
      "Name: Ramesh\n",
      "Age: 20\n",
      "Grade: B\n"
     ]
    }
   ],
   "source": [
    "st_obj.display()\n"
   ]
  },
  {
   "cell_type": "markdown",
   "id": "3be2597b",
   "metadata": {},
   "source": [
    "## Inheritance\n",
    "Inheritance is a mechanism that allows one class to inherit the properties and methods of another class. Th"
   ]
  },
  {
   "cell_type": "markdown",
   "id": "784947a5",
   "metadata": {},
   "source": [
    "##### types\n",
    "1> mmultiple\n",
    "3> multilevel\n",
    "4> singlelevel\n",
    "5> hybrid\n",
    "6> heraricle"
   ]
  },
  {
   "cell_type": "markdown",
   "id": "9591a4c8",
   "metadata": {},
   "source": [
    "# Single level"
   ]
  },
  {
   "cell_type": "code",
   "execution_count": 19,
   "id": "fec7fdc1",
   "metadata": {},
   "outputs": [
    {
     "name": "stdout",
     "output_type": "stream",
     "text": [
      "parent method\n",
      "child method\n"
     ]
    }
   ],
   "source": [
    "class parent:\n",
    "    def parent_method(self):\n",
    "        print('parent method')\n",
    "\n",
    "class child(parent):\n",
    "    def child_method(self):\n",
    "        print('child method')\n",
    "\n",
    "child_obj=child()\n",
    "child_obj.parent_method()\n",
    "child_obj.child_method()"
   ]
  },
  {
   "cell_type": "markdown",
   "id": "8816048f",
   "metadata": {},
   "source": [
    "## MULTIPLE"
   ]
  },
  {
   "cell_type": "code",
   "execution_count": 21,
   "id": "f56d0c53",
   "metadata": {},
   "outputs": [],
   "source": [
    "class parent:\n",
    "    father_name=\"Mohit\"\n",
    "class uncle:\n",
    "    uncle_name=\"raju\"\n",
    "class child(parent,uncle):\n",
    "    child_name=\"ramesh\"\n",
    "\n",
    "obj=child()"
   ]
  },
  {
   "cell_type": "code",
   "execution_count": 22,
   "id": "52c7c17a",
   "metadata": {},
   "outputs": [
    {
     "data": {
      "text/plain": [
       "'Mohit'"
      ]
     },
     "execution_count": 22,
     "metadata": {},
     "output_type": "execute_result"
    }
   ],
   "source": [
    "obj.father_name"
   ]
  },
  {
   "cell_type": "code",
   "execution_count": 23,
   "id": "09978b63",
   "metadata": {},
   "outputs": [
    {
     "data": {
      "text/plain": [
       "'raju'"
      ]
     },
     "execution_count": 23,
     "metadata": {},
     "output_type": "execute_result"
    }
   ],
   "source": [
    "obj.uncle_name"
   ]
  },
  {
   "cell_type": "markdown",
   "id": "71d537c2",
   "metadata": {},
   "source": [
    "# MULTILEVEL"
   ]
  },
  {
   "cell_type": "code",
   "execution_count": 24,
   "id": "94970539",
   "metadata": {},
   "outputs": [],
   "source": [
    "class grandparent:\n",
    "    father_name=\"Mohit\"\n",
    "class parent(grandparent):\n",
    "    uncle_name=\"raju\"\n",
    "class child(parent):\n",
    "    child_name=\"ramesh\"\n",
    "\n",
    "obj=child()"
   ]
  },
  {
   "cell_type": "code",
   "execution_count": 25,
   "id": "d331a0fa",
   "metadata": {},
   "outputs": [
    {
     "data": {
      "text/plain": [
       "'Mohit'"
      ]
     },
     "execution_count": 25,
     "metadata": {},
     "output_type": "execute_result"
    }
   ],
   "source": [
    "obj.father_name"
   ]
  },
  {
   "cell_type": "code",
   "execution_count": 26,
   "id": "1c238d98",
   "metadata": {},
   "outputs": [
    {
     "data": {
      "text/plain": [
       "'raju'"
      ]
     },
     "execution_count": 26,
     "metadata": {},
     "output_type": "execute_result"
    }
   ],
   "source": [
    "obj.uncle_name"
   ]
  },
  {
   "cell_type": "code",
   "execution_count": 27,
   "id": "4784be9f",
   "metadata": {},
   "outputs": [
    {
     "data": {
      "text/plain": [
       "'ramesh'"
      ]
     },
     "execution_count": 27,
     "metadata": {},
     "output_type": "execute_result"
    }
   ],
   "source": [
    "obj.child_name"
   ]
  },
  {
   "cell_type": "markdown",
   "id": "834d95ef",
   "metadata": {},
   "source": [
    "# Hybride"
   ]
  },
  {
   "cell_type": "code",
   "execution_count": null,
   "id": "a53abbc8",
   "metadata": {},
   "outputs": [],
   "source": [
    "class parent:\n",
    "    father_name=\"Mohit\"\n",
    "class uncle:\n",
    "    uncle_name=\"raju\"\n",
    "class child(parent,uncle):\n",
    "    child_name=\"ramesh\"\n",
    "\n",
    "obj=child()"
   ]
  },
  {
   "cell_type": "code",
   "execution_count": 28,
   "id": "814d5dfe",
   "metadata": {},
   "outputs": [
    {
     "name": "stdout",
     "output_type": "stream",
     "text": [
      "This is class A\n",
      "This is class B\n",
      "This is class C\n",
      "This is class D\n"
     ]
    }
   ],
   "source": [
    "class A:\n",
    "    def showA(self):\n",
    "        print(\"This is class A\")\n",
    "\n",
    "class B(A):\n",
    "    def showB(self):\n",
    "        print(\"This is class B\")\n",
    "\n",
    "class C(A):\n",
    "    def showC(self):\n",
    "        print(\"This is class C\")\n",
    "\n",
    "class D(B, C):  # Hybrid inheritance\n",
    "    def showD(self):\n",
    "        print(\"This is class D\")\n",
    "\n",
    "obj = D()\n",
    "obj.showA()  # From class A\n",
    "obj.showB()  # From class B\n",
    "obj.showC()  # From class C\n",
    "obj.showD()  # From class D\n"
   ]
  },
  {
   "cell_type": "markdown",
   "id": "75554b94",
   "metadata": {},
   "source": [
    "# hararicle"
   ]
  },
  {
   "cell_type": "code",
   "execution_count": 29,
   "id": "6598b970",
   "metadata": {},
   "outputs": [
    {
     "name": "stdout",
     "output_type": "stream",
     "text": [
      "This is Parent class\n",
      "This is Child1 class\n",
      "This is Parent class\n",
      "This is Child2 class\n"
     ]
    }
   ],
   "source": [
    "class Parent:\n",
    "    def showParent(self):\n",
    "        print(\"This is Parent class\")\n",
    "\n",
    "class Child1(Parent):\n",
    "    def showChild1(self):\n",
    "        print(\"This is Child1 class\")\n",
    "\n",
    "class Child2(Parent):\n",
    "    def showChild2(self):\n",
    "        print(\"This is Child2 class\")\n",
    "\n",
    "# Objects\n",
    "obj1 = Child1()\n",
    "obj2 = Child2()\n",
    "\n",
    "# Accessing\n",
    "obj1.showParent()   # Parent class method\n",
    "obj1.showChild1()   # Child1 class method\n",
    "\n",
    "obj2.showParent()   # Parent class method\n",
    "obj2.showChild2()   # Child2 class method\n"
   ]
  },
  {
   "cell_type": "markdown",
   "id": "24a01f58",
   "metadata": {},
   "source": [
    "# Polymorphism"
   ]
  },
  {
   "cell_type": "code",
   "execution_count": 30,
   "id": "a549d982",
   "metadata": {},
   "outputs": [
    {
     "name": "stdout",
     "output_type": "stream",
     "text": [
      "[1, 2, 3, 4, 5, 6, 7, 'mohit', 2.5]\n",
      "ritik\n",
      "9\n"
     ]
    }
   ],
   "source": [
    "lst=[1,2,3,4,5,6,7,\"mohit\",2.5]\n",
    "print(lst)\n",
    "name=\"ritik\"\n",
    "print(name)\n",
    "len(lst)\n",
    "print(len(lst))"
   ]
  },
  {
   "cell_type": "code",
   "execution_count": 31,
   "id": "cad996a8",
   "metadata": {},
   "outputs": [
    {
     "ename": "TypeError",
     "evalue": "student.student_details() missing 1 required positional argument: 'name'",
     "output_type": "error",
     "traceback": [
      "\u001b[31m---------------------------------------------------------------------------\u001b[39m",
      "\u001b[31mTypeError\u001b[39m                                 Traceback (most recent call last)",
      "\u001b[36mCell\u001b[39m\u001b[36m \u001b[39m\u001b[32mIn[31]\u001b[39m\u001b[32m, line 8\u001b[39m\n\u001b[32m      5\u001b[39m         \u001b[38;5;28mprint\u001b[39m(\u001b[33mf\u001b[39m\u001b[33m\"\u001b[39m\u001b[33mmy name is \u001b[39m\u001b[38;5;132;01m{\u001b[39;00mname\u001b[38;5;132;01m}\u001b[39;00m\u001b[33m\"\u001b[39m)\n\u001b[32m      7\u001b[39m obj=student()\n\u001b[32m----> \u001b[39m\u001b[32m8\u001b[39m \u001b[43mobj\u001b[49m\u001b[43m.\u001b[49m\u001b[43mstudent_details\u001b[49m\u001b[43m(\u001b[49m\u001b[43m)\u001b[49m\n",
      "\u001b[31mTypeError\u001b[39m: student.student_details() missing 1 required positional argument: 'name'"
     ]
    }
   ],
   "source": [
    "class student:\n",
    "    def student_details(self):\n",
    "        print(\"My name is mohit\")\n",
    "    def student_details(self,name):\n",
    "        print(f\"my name is {name}\")\n",
    "\n",
    "obj=student()\n",
    "obj.student_details()"
   ]
  },
  {
   "cell_type": "markdown",
   "id": "13ed62d5",
   "metadata": {},
   "source": [
    "# Abstraction\n",
    "Abstraction is a fundamental concept in object-oriented programming (OOP) that allows you to hide th"
   ]
  },
  {
   "cell_type": "code",
   "execution_count": 32,
   "id": "3a05ab7d",
   "metadata": {},
   "outputs": [
    {
     "name": "stdout",
     "output_type": "stream",
     "text": [
      "\n"
     ]
    }
   ],
   "source": [
    "print(\"\")\n"
   ]
  },
  {
   "cell_type": "markdown",
   "id": "e803531b",
   "metadata": {},
   "source": [
    "# Constructor\n",
    "Iska kaam hota hai object ko initialize karna — yani object banate waqt kuch default value set karna"
   ]
  },
  {
   "cell_type": "code",
   "execution_count": 35,
   "id": "c2c9a407",
   "metadata": {},
   "outputs": [
    {
     "data": {
      "text/plain": [
       "'b'"
      ]
     },
     "execution_count": 35,
     "metadata": {},
     "output_type": "execute_result"
    }
   ],
   "source": [
    "class student:\n",
    "    def __init__(self, name, age, grade):\n",
    "        self.name = name\n",
    "        self.age = age\n",
    "        self.grade = grade\n",
    "obj=student(name=\"mohit\", age=20, grade= \"b\")\n",
    "\n",
    "obj.name\n",
    "obj.age\n",
    "obj.grade\n",
    "\n"
   ]
  },
  {
   "cell_type": "markdown",
   "id": "0f019bb2",
   "metadata": {},
   "source": [
    "# Encapsulation\n",
    "Data aur functions ko ek single unit me bundle karna\n",
    "\n",
    "\n"
   ]
  },
  {
   "cell_type": "code",
   "execution_count": 47,
   "id": "fb0ad15f",
   "metadata": {},
   "outputs": [],
   "source": [
    "class student:\n",
    "    def __init__(self):\n",
    "        self.name = \"mohit\"\n",
    "        self._age = 20\n",
    "        self.__marks = 90\n",
    "\n",
    "    def display(self):\n",
    "        print(f\"hello my name is {self.name}\" \"and my age is {self._age}\" \"and my marks are {self.__marks}\")\n",
    "obj=student()"
   ]
  },
  {
   "cell_type": "code",
   "execution_count": 42,
   "id": "119fe9c1",
   "metadata": {},
   "outputs": [
    {
     "data": {
      "text/plain": [
       "'mohit'"
      ]
     },
     "execution_count": 42,
     "metadata": {},
     "output_type": "execute_result"
    }
   ],
   "source": [
    "obj.name"
   ]
  },
  {
   "cell_type": "code",
   "execution_count": 43,
   "id": "36a87199",
   "metadata": {},
   "outputs": [
    {
     "data": {
      "text/plain": [
       "20"
      ]
     },
     "execution_count": 43,
     "metadata": {},
     "output_type": "execute_result"
    }
   ],
   "source": [
    "obj._age"
   ]
  },
  {
   "cell_type": "code",
   "execution_count": 44,
   "id": "005854f6",
   "metadata": {},
   "outputs": [
    {
     "ename": "AttributeError",
     "evalue": "'student' object has no attribute '__marks'",
     "output_type": "error",
     "traceback": [
      "\u001b[31m---------------------------------------------------------------------------\u001b[39m",
      "\u001b[31mAttributeError\u001b[39m                            Traceback (most recent call last)",
      "\u001b[36mCell\u001b[39m\u001b[36m \u001b[39m\u001b[32mIn[44]\u001b[39m\u001b[32m, line 1\u001b[39m\n\u001b[32m----> \u001b[39m\u001b[32m1\u001b[39m \u001b[43mobj\u001b[49m\u001b[43m.\u001b[49m\u001b[43m__marks\u001b[49m\n",
      "\u001b[31mAttributeError\u001b[39m: 'student' object has no attribute '__marks'"
     ]
    }
   ],
   "source": [
    "obj.__marks"
   ]
  },
  {
   "cell_type": "code",
   "execution_count": null,
   "id": "e2d1a449",
   "metadata": {},
   "outputs": [],
   "source": []
  }
 ],
 "metadata": {
  "kernelspec": {
   "display_name": "Python 3",
   "language": "python",
   "name": "python3"
  },
  "language_info": {
   "codemirror_mode": {
    "name": "ipython",
    "version": 3
   },
   "file_extension": ".py",
   "mimetype": "text/x-python",
   "name": "python",
   "nbconvert_exporter": "python",
   "pygments_lexer": "ipython3",
   "version": "3.12.2"
  }
 },
 "nbformat": 4,
 "nbformat_minor": 5
}
