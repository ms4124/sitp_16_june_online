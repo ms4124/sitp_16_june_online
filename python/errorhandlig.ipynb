{
 "cells": [
  {
   "cell_type": "markdown",
   "id": "53403d16",
   "metadata": {},
   "source": [
    "## Error Handlig\n",
    "## Acception handling"
   ]
  },
  {
   "cell_type": "code",
   "execution_count": 2,
   "id": "03d34024",
   "metadata": {},
   "outputs": [],
   "source": [
    "try:  \n",
    "    #main code\n",
    "    pass\n",
    "except: # exception code\n",
    "    pass\n",
    "else:\n",
    "    #else code\n",
    "    pass\n",
    "finally:\n",
    "    #finally code\n",
    "    pass"
   ]
  },
  {
   "cell_type": "code",
   "execution_count": 3,
   "id": "d5605d13",
   "metadata": {},
   "outputs": [
    {
     "name": "stdout",
     "output_type": "stream",
     "text": [
      "Error: Division by zero is not allowed\n"
     ]
    }
   ],
   "source": [
    "try:\n",
    "    x=10/0\n",
    "\n",
    "except ZeroDivisionError:\n",
    "    print(\"Error: Division by zero is not allowed\")"
   ]
  },
  {
   "cell_type": "code",
   "execution_count": null,
   "id": "38f74851",
   "metadata": {},
   "outputs": [
    {
     "name": "stdout",
     "output_type": "stream",
     "text": [
      "Error: Division by zero is not allowed\n"
     ]
    }
   ],
   "source": [
    "try:\n",
    "    x=10/0\n",
    "\n",
    "except Exception as e:\n",
    "    print(\"Error: Division by zero is not allowed\")"
   ]
  },
  {
   "cell_type": "code",
   "execution_count": null,
   "id": "f24299c1",
   "metadata": {},
   "outputs": [
    {
     "name": "stdout",
     "output_type": "stream",
     "text": [
      "number likhna h\n",
      "Programme khataam\n"
     ]
    }
   ],
   "source": [
    "try:\n",
    "    x=int(input(\"number likh\"))\n",
    "    result=10/x\n",
    "\n",
    "except ZeroDivisionError:\n",
    "    print(\"0 par division nahi kar sakte\")\n",
    "\n",
    "except ValueError:\n",
    "    print(\"number likhna h\")\n",
    "else:\n",
    "    print(\"Result\",result)\n",
    "finally:\n",
    "    print(\"Programme khataam\")  # This will run regardless of whether an exception was\n"
   ]
  },
  {
   "cell_type": "code",
   "execution_count": 10,
   "id": "6088c90b",
   "metadata": {},
   "outputs": [
    {
     "name": "stdout",
     "output_type": "stream",
     "text": [
      "error invalid literal for int() with base 10: 'mohit'\n",
      "Programme khataam\n"
     ]
    }
   ],
   "source": [
    "try:\n",
    "    x=int(input(\"number likh\"))\n",
    "    result=10/x\n",
    "except Exception as e:\n",
    "    print(\"error\",e)\n",
    "\n",
    "else:\n",
    "    print(\"Result\",result)\n",
    "finally:\n",
    "    print(\"Programme khataam\")  # This will run regardless of whether an exception was\n"
   ]
  },
  {
   "cell_type": "markdown",
   "id": "46cbd49b",
   "metadata": {},
   "source": [
    "## task:- voting system"
   ]
  },
  {
   "cell_type": "markdown",
   "id": "4a8a9da4",
   "metadata": {},
   "source": [
    "# raising custo error"
   ]
  },
  {
   "cell_type": "code",
   "execution_count": 19,
   "id": "167eeb0f",
   "metadata": {},
   "outputs": [
    {
     "name": "stdout",
     "output_type": "stream",
     "text": [
      "Age is correct\n",
      "Age is correct\n",
      "Age is checked\n"
     ]
    }
   ],
   "source": [
    "def check_age(age):\n",
    "    if age<18:\n",
    "        raise ValueError(\"Age is less than 18\")\n",
    "    else:\n",
    "        print(\"Age is correct\")\n",
    "try:\n",
    "    check_age(20)\n",
    "    \n",
    "except ValueError as e:\n",
    "    print(e)\n",
    "else:\n",
    "        print(\"Age is correct\")\n",
    "    \n",
    "finally:\n",
    "        print(\"Age is checked\")\n",
    "    "
   ]
  },
  {
   "cell_type": "code",
   "execution_count": null,
   "id": "fe60d38d",
   "metadata": {},
   "outputs": [],
   "source": []
  }
 ],
 "metadata": {
  "kernelspec": {
   "display_name": "Python 3",
   "language": "python",
   "name": "python3"
  },
  "language_info": {
   "codemirror_mode": {
    "name": "ipython",
    "version": 3
   },
   "file_extension": ".py",
   "mimetype": "text/x-python",
   "name": "python",
   "nbconvert_exporter": "python",
   "pygments_lexer": "ipython3",
   "version": "3.12.2"
  }
 },
 "nbformat": 4,
 "nbformat_minor": 5
}
